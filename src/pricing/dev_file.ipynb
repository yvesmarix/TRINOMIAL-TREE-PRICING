{
 "cells": [
  {
   "cell_type": "code",
   "execution_count": null,
   "id": "7e732609",
   "metadata": {},
   "outputs": [],
   "source": [
    "# compute_probabilities(compute_forward(t.S) - self.market.dividend, nearest_node, variance, True)\n",
    "\n",
    "\n",
    "\n",
    "# def compute_p_down(esperance: float, forward: float, variance: float, alpha: float) -> float:\n",
    "#         return(\n",
    "#             esperance ** (-2) * (variance + forward**2)\n",
    "#             - 1\n",
    "#             - (alpha + 1) * (esperance ** (-1) * forward - 1)\n",
    "#         ) / ((1 - alpha) * (alpha ** (-2) - 1))\n",
    "\n",
    "# def compute_p_up(p_down: float, alpha: float, esperance: float = None\n",
    "#                 , forward: float = None, dividend: bool = False) -> float:\n",
    "#     if not dividend:\n",
    "#         return p_down / alpha\n",
    "#     else:\n",
    "#         return ((alpha - 1)**(-1)) * ((esperance ** (-1)) * forward - 1 -\n",
    "#                 ((alpha ** (-1)) - 1) * p_down)\n"
   ]
  },
  {
   "cell_type": "code",
   "execution_count": 8,
   "id": "969acee2",
   "metadata": {},
   "outputs": [
    {
     "name": "stdout",
     "output_type": "stream",
     "text": [
      "Prix de l’option: 5.577374133766486\n",
      "Black-Scholes Price: 5.5766\n"
     ]
    }
   ],
   "source": [
    "# debut du div, americain, avancer sur convergence\n",
    "\n",
    "from pricing import BlackScholesPricer, TrinomialTree, Market, Option\n",
    "from pricing import convergence\n",
    "from pricing import graphique\n",
    "import datetime as dt\n",
    "import sys\n",
    "\n",
    "sys.setrecursionlimit(100000)\n",
    "market = Market(S0=100, r=0.03, sigma=0.2, dividend=0, dividend_date=dt.datetime(2026, 7, 30))\n",
    "option = Option(K=110, option_type=\"call\", maturity=dt.datetime(2026, 10, 30), option_class=\"european\")\n",
    "tree = TrinomialTree(market, option, N=1000)\n",
    "\n",
    "price = tree.price()\n",
    "print(\"Prix de l’option:\", price)\n",
    "\n",
    "bs_price = BlackScholesPricer().price(S=market.S0, K=option.K, T=tree.delta_t*tree.N, r=market.r, q=0, sigma=market.sigma, option_type='call') # q=0 car pas de dividendes\n",
    "print(\"Black-Scholes Price: {:.4f}\".format(bs_price))\n",
    "\n",
    "# graphique.plot_tree(tree.root)\n",
    "# convergence.bs_convergence_by_strike(market, option, [80, 90, 100, 110, 120, 130, 140, 150, 160], N=100)\n",
    "\n",
    "# convergence.bs_convergence_by_step(market, option, bs_price, max_n = 1000, step = 20)"
   ]
  },
  {
   "cell_type": "code",
   "execution_count": null,
   "id": "c9263e37",
   "metadata": {},
   "outputs": [],
   "source": [
    "# soutenance sur teams de 30 min\n",
    "# 2 quizz jusqu'à 17h le 29/10 : un qualitatif -> questions et un quantitatif où on va \n",
    "# devoir utiliser notre code pour répondre (possible de faire un ajout de code aussi)\n",
    "# exemple qualitatif : quelle est le plus gros reproche de l'abre trinomial"
   ]
  },
  {
   "cell_type": "markdown",
   "id": "550f2b51",
   "metadata": {},
   "source": [
    "pricer backward :\n",
    "- calcul avec une boucle for sans limite de récursion\n",
    "- on commence les calculs par le noeud de la fin\n",
    "- allez à la fin avec les truncs nodes\n",
    "- on calcul la valeur intrinsèque dans la dernière colonne\n",
    "- on va ajouter le fait de revenir un cran en arrière sur le noeud tronc\n",
    "- on peut avoir une classe TruncNode qui dérive de Node\n",
    "- il faut aussi que n'importe quelle noeud de la colonne connaisse son TruncNode\n",
    "- ensuite on remonte noeud par noeud et utilise la même fonction price que le récursif (la même forme)"
   ]
  },
  {
   "cell_type": "markdown",
   "id": "4993cd51",
   "metadata": {},
   "source": [
    "problème des probas pas dans 0, 1:\n",
    "il faut que le noeud mid soit le plus proche de l'espérance --> il faut changer de noeud mid quand ça dépasse 1 ou en dessous de 0\n",
    "il va falloir attribuer next_mid en cherchant autour\n",
    "lui sa construction il l'a fait en montant petit à petit dans les deux colonnes t et t+1 en même temps\n",
    "tant que le next_mid est entre le next_mid actuel et la moyenne entre next_mid et next_up alors on garde ce next_mid sinon on attribue next_mid comme étant next_up, attribuer next_mid au noeud le plus proche de l'espérance --> calculer la moyenne entre le deux noeuds possible\n",
    "le problème vient des noeuds du bas avec des valeur négative quand on soustrait le div--> résolu par le pruning qui enlève beaucoup de noeuds du bas\n",
    "\n",
    "il faudrait que la colonne t sache que la colonne t+1 reçoit le dividende"
   ]
  },
  {
   "cell_type": "markdown",
   "id": "a854ca56",
   "metadata": {},
   "source": [
    "REGARDER LES GRAPHS LOG LOG AVANT DE FAIRE LE PRUNING"
   ]
  },
  {
   "cell_type": "markdown",
   "id": "d6b90612",
   "metadata": {},
   "source": [
    "Pruning : \n",
    "- soit proba d'arriver au noeud\n",
    "- soit nombre d'écart type de S avec le trunc node (4 écarts types)\n",
    "- chaque noeud à sa proba\n",
    "- chaque noeud vient peut être de 3 noeud, à chaque fois qu'on fait une liaison vers ce noeud on rajoute à la proba cumulé du noeud vers lequel on va la contribution du noeud parent : next_down.proba_cumulée = next_down.proba_cumulée + current_node.proba ---> méthode dans Node\n",
    "quand on monte dans l'arbre et que c'est trop petit, on fait juste un next_mid avec une proba de 1 ---> monomial ---> tant que c'est trop petit ---> monomial\n",
    "le noeud qui a une proba faible crée un noeud monomial ! il existe mais ne crée pas plusieurs noeud c'est tout\n",
    "- autre méthode = écart type"
   ]
  }
 ],
 "metadata": {
  "kernelspec": {
   "display_name": "venv",
   "language": "python",
   "name": "python3"
  },
  "language_info": {
   "codemirror_mode": {
    "name": "ipython",
    "version": 3
   },
   "file_extension": ".py",
   "mimetype": "text/x-python",
   "name": "python",
   "nbconvert_exporter": "python",
   "pygments_lexer": "ipython3",
   "version": "3.12.11"
  }
 },
 "nbformat": 4,
 "nbformat_minor": 5
}
