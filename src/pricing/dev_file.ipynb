{
 "cells": [
  {
   "cell_type": "code",
   "execution_count": 2,
   "id": "969acee2",
   "metadata": {},
   "outputs": [
    {
     "ename": "KeyboardInterrupt",
     "evalue": "",
     "output_type": "error",
     "traceback": [
      "\u001b[31m---------------------------------------------------------------------------\u001b[39m",
      "\u001b[31mKeyboardInterrupt\u001b[39m                         Traceback (most recent call last)",
      "\u001b[36mCell\u001b[39m\u001b[36m \u001b[39m\u001b[32mIn[2]\u001b[39m\u001b[32m, line 4\u001b[39m\n\u001b[32m      1\u001b[39m \u001b[38;5;66;03m# debut du div, americain, avancer sur convergence\u001b[39;00m\n\u001b[32m      2\u001b[39m \n\u001b[32m      3\u001b[39m \u001b[38;5;66;03m# from pricing import BlackScholesPricer, TrinomialTree, Market, Option\u001b[39;00m\n\u001b[32m----> \u001b[39m\u001b[32m4\u001b[39m \u001b[38;5;28;01mfrom\u001b[39;00m\u001b[38;5;250m \u001b[39m\u001b[34;01mpricing\u001b[39;00m\u001b[38;5;250m \u001b[39m\u001b[38;5;28;01mimport\u001b[39;00m convergence\n\u001b[32m      5\u001b[39m \u001b[38;5;28;01mimport\u001b[39;00m\u001b[38;5;250m \u001b[39m\u001b[34;01mdatetime\u001b[39;00m\u001b[38;5;250m \u001b[39m\u001b[38;5;28;01mas\u001b[39;00m\u001b[38;5;250m \u001b[39m\u001b[34;01mdt\u001b[39;00m\n\u001b[32m      6\u001b[39m \u001b[38;5;28;01mimport\u001b[39;00m\u001b[38;5;250m \u001b[39m\u001b[34;01msys\u001b[39;00m\n",
      "\u001b[36mFile \u001b[39m\u001b[32m<frozen importlib._bootstrap>:1360\u001b[39m, in \u001b[36m_find_and_load\u001b[39m\u001b[34m(name, import_)\u001b[39m\n",
      "\u001b[36mFile \u001b[39m\u001b[32m<frozen importlib._bootstrap>:1331\u001b[39m, in \u001b[36m_find_and_load_unlocked\u001b[39m\u001b[34m(name, import_)\u001b[39m\n",
      "\u001b[36mFile \u001b[39m\u001b[32m<frozen importlib._bootstrap>:935\u001b[39m, in \u001b[36m_load_unlocked\u001b[39m\u001b[34m(spec)\u001b[39m\n",
      "\u001b[36mFile \u001b[39m\u001b[32m<frozen importlib._bootstrap_external>:995\u001b[39m, in \u001b[36mexec_module\u001b[39m\u001b[34m(self, module)\u001b[39m\n",
      "\u001b[36mFile \u001b[39m\u001b[32m<frozen importlib._bootstrap_external>:1091\u001b[39m, in \u001b[36mget_code\u001b[39m\u001b[34m(self, fullname)\u001b[39m\n",
      "\u001b[36mFile \u001b[39m\u001b[32m<frozen importlib._bootstrap_external>:1191\u001b[39m, in \u001b[36mget_data\u001b[39m\u001b[34m(self, path)\u001b[39m\n",
      "\u001b[31mKeyboardInterrupt\u001b[39m: "
     ]
    }
   ],
   "source": [
    "# debut du div, americain, avancer sur convergence\n",
    "\n",
    "# from pricing import BlackScholesPricer, TrinomialTree, Market, Option\n",
    "from pricing import convergence\n",
    "import datetime as dt\n",
    "import sys\n",
    "\n",
    "sys.setrecursionlimit(100000)\n",
    "market = Market(S0=100, r=0.03, sigma=0.2)\n",
    "option = Option(K=103, option_type=\"call\", maturity=dt.datetime(2025, 10, 30), option_class=\"european\")\n",
    "tree = TrinomialTree(market, option, N=10)\n",
    "\n",
    "price = tree.price()\n",
    "print(\"Prix de l’option:\", price)\n",
    "\n",
    "bs_price = BlackScholesPricer().price(S=market.S0, K=option.K, T=tree.delta_t*tree.N, r=market.r, q=0, sigma=market.sigma, option_type='call') # q=0 car pas de dividendes\n",
    "print(\"Black-Scholes Price: {:.4f}\".format(bs_price))\n",
    "\n",
    "\n",
    "# convergence.bs_convergence_by_strike(market, option, [80, 90, 100, 110, 120, 130, 140, 150, 160], N=100)\n",
    "\n",
    "# convergence.bs_convergence_by_step(market, option, bs_price, max_n = 1000, step = 100)"
   ]
  },
  {
   "cell_type": "code",
   "execution_count": 7,
   "id": "a1e7c938",
   "metadata": {},
   "outputs": [
    {
     "name": "stdout",
     "output_type": "stream",
     "text": [
      "Prix de l’option: 7.9853887716216745\n"
     ]
    }
   ],
   "source": [
    "price = tree.root.price_recursive(option)\n",
    "print(\"Prix de l’option:\", price)"
   ]
  },
  {
   "cell_type": "code",
   "execution_count": 2,
   "id": "d779f48b",
   "metadata": {},
   "outputs": [
    {
     "data": {
      "text/plain": [
       "np.float64(79.45741451881536)"
      ]
     },
     "execution_count": 2,
     "metadata": {},
     "output_type": "execute_result"
    }
   ],
   "source": [
    "tree.root.next_down.S"
   ]
  },
  {
   "cell_type": "code",
   "execution_count": 24,
   "id": "3b5eab0d",
   "metadata": {},
   "outputs": [
    {
     "name": "stdout",
     "output_type": "stream",
     "text": [
      "p_up = 0.14709, p_mid = 0.66499, p_down = 0.18792, alpha = 1.27756\n"
     ]
    }
   ],
   "source": [
    "print(\"p_up = {:.5f}, p_mid = {:.5f}, p_down = {:.5f}, alpha = {:.5f}\".format(tree.p_up, tree.p_mid, tree.p_down, tree.alpha))"
   ]
  },
  {
   "cell_type": "code",
   "execution_count": 10,
   "id": "ed278b20",
   "metadata": {},
   "outputs": [
    {
     "data": {
      "text/plain": [
       "np.float64(5.048056844118739e-05)"
      ]
     },
     "execution_count": 10,
     "metadata": {},
     "output_type": "execute_result"
    }
   ],
   "source": [
    "tree.root.next_down.next_down.next_down.next_down.next_down.next_down.next_down.next_up.next_down.next_down.next_down.next_down.next_down.next_down.next_down.proba"
   ]
  },
  {
   "cell_type": "code",
   "execution_count": null,
   "id": "00b4dd40",
   "metadata": {},
   "outputs": [],
   "source": [
    "\n",
    "@measure_time\n",
    "def __build_tree(self) -> None:\n",
    "    \"\"\"build from root to leaves for each node, compute next generation if next generation is not None, compute next generation if next generation is None, stop\"\"\"\n",
    "    self.root = Node(self.market.spot_price, self, self.pricing_date)\n",
    "    current_mid = self.root\n",
    "    current_date = self.pricing_date\n",
    "    # iterate over the number of steps to construct the nodes generation\n",
    "    for _ in tqdm(\n",
    "        range(self.n_steps),\n",
    "        total=self.n_steps,\n",
    "        desc=\"Building tree...\",\n",
    "        leave=False,\n",
    "    ):\n",
    "        current_date = current_date + timedelta(days=self.delta_t * self.n_days)\n",
    "        current_mid = self.__construct_next_generation(current_mid, current_date)\n",
    "\n",
    "def __construct_next_generation(\n",
    "    self, prev_trunc_node: Node, date_time: Optional[datetime] = None\n",
    ") -> Node:\n",
    "\n",
    "    # first compute the next mid generation\n",
    "    self.__compute_next_nodes(prev_trunc_node, date_time)\n",
    "\n",
    "    # then construct the next upper generations until the node has no upper node\n",
    "    current_upper_neighbours = prev_trunc_node.node_up\n",
    "    while current_upper_neighbours is not None:\n",
    "        self.__compute_next_nodes_upward(current_upper_neighbours, date_time)\n",
    "        current_upper_neighbours = current_upper_neighbours.node_up\n",
    "\n",
    "    current_lower_neighbours = prev_trunc_node.node_down\n",
    "    # then construct the next lower generations until the node has no lower node\n",
    "    while current_lower_neighbours is not None:\n",
    "        self.__compute_next_nodes_downward(current_lower_neighbours, date_time)\n",
    "        current_lower_neighbours = current_lower_neighbours.node_down\n",
    "\n",
    "    return prev_trunc_node.next_mid_node\n",
    "\n",
    "def __compute_next_nodes(\n",
    "    self, current_node: Node, date_time: Optional[datetime] = None\n",
    ") -> None:\n",
    "\n",
    "    n = Node(\n",
    "        current_node.forward_price, self, date_time\n",
    "    )  # create the next mid node\n",
    "    current_node.next_mid_node = n  # link the current node to the next mid node\n",
    "    n_up = Node(\n",
    "        current_node.up_price, self, date_time\n",
    "    )  # create the next upper node\n",
    "    current_node.next_upper_node = (\n",
    "        n_up  # link the current node to the next upper node\n",
    "    )\n",
    "    current_node.next_upper_node.node_down = (\n",
    "        n  # link the next upper node to the next mid node\n",
    "    )\n",
    "    n.node_up = n_up  # link the next mid node to the next upper node\n",
    "\n",
    "    n_down = Node(\n",
    "        current_node.down_price, self, date_time\n",
    "    )  # create the next lower node\n",
    "    current_node.next_lower_node = (\n",
    "        n_down  # link the current node to the next lower node\n",
    "    )\n",
    "    current_node.next_lower_node.node_up = (\n",
    "        n  # link the next lower node to the next mid node\n",
    "    )\n",
    "    n.node_down = n_down  # link the next mid node to the next lower node\n",
    "\n",
    "def __compute_next_nodes_upward(\n",
    "    self, current_node: Node, date_time: Optional[datetime] = None\n",
    ") -> None:\n",
    "\n",
    "    current_node.next_lower_node = current_node.node_down.next_mid_node\n",
    "    current_node.next_mid_node = current_node.node_down.next_upper_node\n",
    "    current_node.next_upper_node = Node(current_node.up_price, self, date_time)\n",
    "\n",
    "    current_node.next_upper_node.node_down = current_node.next_mid_node\n",
    "    current_node.next_mid_node.node_up = current_node.next_upper_node\n",
    "\n",
    "def __compute_next_nodes_downward(\n",
    "    self, current_node: Node, date_time: Optional[datetime] = None\n",
    ") -> None:\n",
    "\n",
    "    current_node.next_mid_node = current_node.node_up.next_lower_node\n",
    "    current_node.next_upper_node = current_node.node_up.next_mid_node\n",
    "    current_node.next_lower_node = Node(current_node.down_price, self, date_time)\n",
    "\n",
    "    current_node.next_lower_node.node_up = current_node.next_mid_node\n",
    "    current_node.next_mid_node.node_down = current_node.next_lower_node"
   ]
  }
 ],
 "metadata": {
  "kernelspec": {
   "display_name": "venv_pricer",
   "language": "python",
   "name": "python3"
  },
  "language_info": {
   "codemirror_mode": {
    "name": "ipython",
    "version": 3
   },
   "file_extension": ".py",
   "mimetype": "text/x-python",
   "name": "python",
   "nbconvert_exporter": "python",
   "pygments_lexer": "ipython3",
   "version": "3.12.11"
  }
 },
 "nbformat": 4,
 "nbformat_minor": 5
}
