{
 "cells": [
  {
   "cell_type": "code",
   "execution_count": 2,
   "id": "52b55cb4",
   "metadata": {},
   "outputs": [
    {
     "name": "stdout",
     "output_type": "stream",
     "text": [
      "Collecting black\n",
      "  Downloading black-25.9.0-cp312-cp312-macosx_11_0_arm64.whl.metadata (83 kB)\n",
      "Collecting click>=8.0.0 (from black)\n",
      "  Downloading click-8.3.0-py3-none-any.whl.metadata (2.6 kB)\n",
      "Collecting mypy-extensions>=0.4.3 (from black)\n",
      "  Downloading mypy_extensions-1.1.0-py3-none-any.whl.metadata (1.1 kB)\n",
      "Requirement already satisfied: packaging>=22.0 in /Users/yves-mariesaliou/Documents/Cours/M2 IEF 272/INFO QUANT/PROJET/PRICER V1/venv/lib/python3.12/site-packages (from black) (25.0)\n",
      "Collecting pathspec>=0.9.0 (from black)\n",
      "  Downloading pathspec-0.12.1-py3-none-any.whl.metadata (21 kB)\n",
      "Requirement already satisfied: platformdirs>=2 in /Users/yves-mariesaliou/Documents/Cours/M2 IEF 272/INFO QUANT/PROJET/PRICER V1/venv/lib/python3.12/site-packages (from black) (4.5.0)\n",
      "Collecting pytokens>=0.1.10 (from black)\n",
      "  Downloading pytokens-0.1.10-py3-none-any.whl.metadata (2.0 kB)\n",
      "Downloading black-25.9.0-cp312-cp312-macosx_11_0_arm64.whl (1.6 MB)\n",
      "\u001b[2K   \u001b[90m━━━━━━━━━━━━━━━━━━━━━━━━━━━━━━━━━━━━━━━━\u001b[0m \u001b[32m1.6/1.6 MB\u001b[0m \u001b[31m38.0 MB/s\u001b[0m  \u001b[33m0:00:00\u001b[0m\n",
      "\u001b[?25hDownloading click-8.3.0-py3-none-any.whl (107 kB)\n",
      "Downloading mypy_extensions-1.1.0-py3-none-any.whl (5.0 kB)\n",
      "Downloading pathspec-0.12.1-py3-none-any.whl (31 kB)\n",
      "Downloading pytokens-0.1.10-py3-none-any.whl (12 kB)\n",
      "Installing collected packages: pytokens, pathspec, mypy-extensions, click, black\n",
      "\u001b[2K   \u001b[90m━━━━━━━━━━━━━━━━━━━━━━━━━━━━━━━━━━━━━━━━\u001b[0m \u001b[32m5/5\u001b[0m [black]32m4/5\u001b[0m [black]\n",
      "\u001b[1A\u001b[2KSuccessfully installed black-25.9.0 click-8.3.0 mypy-extensions-1.1.0 pathspec-0.12.1 pytokens-0.1.10\n"
     ]
    }
   ],
   "source": [
    "!pip install black"
   ]
  },
  {
   "cell_type": "code",
   "execution_count": null,
   "id": "969acee2",
   "metadata": {},
   "outputs": [
    {
     "ename": "AssertionError",
     "evalue": "Error: probability p_mid = -2.46%!",
     "output_type": "error",
     "traceback": [
      "\u001b[31m---------------------------------------------------------------------------\u001b[39m",
      "\u001b[31mAssertionError\u001b[39m                            Traceback (most recent call last)",
      "\u001b[36mCell\u001b[39m\u001b[36m \u001b[39m\u001b[32mIn[3]\u001b[39m\u001b[32m, line 14\u001b[39m\n\u001b[32m     11\u001b[39m tree = TrinomialTree(market, option, N=\u001b[32m7\u001b[39m, pruning=\u001b[38;5;28;01mFalse\u001b[39;00m, epsilon=\u001b[32m1e-6\u001b[39m)\n\u001b[32m     13\u001b[39m tree._compute_parameters(\u001b[32m100\u001b[39m)\n\u001b[32m---> \u001b[39m\u001b[32m14\u001b[39m tree.root = \u001b[43mtree\u001b[49m\u001b[43m.\u001b[49m\u001b[43m_build_tree\u001b[49m\u001b[43m(\u001b[49m\u001b[43m)\u001b[49m\n\u001b[32m     16\u001b[39m \u001b[38;5;66;03m# price = tree.price(option)\u001b[39;00m\n\u001b[32m     17\u001b[39m \u001b[38;5;66;03m# print(\"Prix de l’option:\", price)\u001b[39;00m\n\u001b[32m     19\u001b[39m bs_price = BlackScholesPricer().price(S=market.S0, K=option.K, T=tree.delta_t*tree.N, r=market.r, sigma=market.sigma, option_type=\u001b[33m'\u001b[39m\u001b[33mcall\u001b[39m\u001b[33m'\u001b[39m, dividend=market.dividend, dividend_date = market.dividend_date) \u001b[38;5;66;03m# q=0 car pas de dividendes\u001b[39;00m\n",
      "\u001b[36mFile \u001b[39m\u001b[32m~/Documents/Cours/M2 IEF 272/INFO QUANT/PROJET/PRICER V1/src/pricing/trinomial_tree.py:69\u001b[39m, in \u001b[36mTrinomialTree._build_tree\u001b[39m\u001b[34m(self)\u001b[39m\n\u001b[32m     67\u001b[39m \u001b[38;5;66;03m# Crée les enfants pour chaque nœud de la colonne courante\u001b[39;00m\n\u001b[32m     68\u001b[39m \u001b[38;5;28;01mfor\u001b[39;00m node, is_bord \u001b[38;5;129;01min\u001b[39;00m iter_column(t, mode=\u001b[33m\"\u001b[39m\u001b[33mbuilding\u001b[39m\u001b[33m\"\u001b[39m):\n\u001b[32m---> \u001b[39m\u001b[32m69\u001b[39m     \u001b[43mnode\u001b[49m\u001b[43m.\u001b[49m\u001b[43mcreate_children\u001b[49m\u001b[43m(\u001b[49m\u001b[38;5;28;43mself\u001b[39;49m\u001b[43m,\u001b[49m\u001b[43m \u001b[49m\u001b[43mpruning\u001b[49m\u001b[43m=\u001b[49m\u001b[38;5;28;43mself\u001b[39;49m\u001b[43m.\u001b[49m\u001b[43mpruning\u001b[49m\u001b[43m,\u001b[49m\u001b[43m \u001b[49m\u001b[43mis_bord\u001b[49m\u001b[43m=\u001b[49m\u001b[43mis_bord\u001b[49m\u001b[43m,\u001b[49m\u001b[43m \u001b[49m\u001b[43mdividend\u001b[49m\u001b[43m=\u001b[49m\u001b[43mdividend\u001b[49m\u001b[43m)\u001b[49m\n\u001b[32m     71\u001b[39m \u001b[38;5;66;03m# retour aux probas normales\u001b[39;00m\n\u001b[32m     72\u001b[39m \u001b[38;5;28;01mif\u001b[39;00m dividend:\n",
      "\u001b[36mFile \u001b[39m\u001b[32m~/Documents/Cours/M2 IEF 272/INFO QUANT/PROJET/PRICER V1/src/pricing/node.py:235\u001b[39m, in \u001b[36mNode.create_children\u001b[39m\u001b[34m(self, tree, pruning, is_bord, dividend)\u001b[39m\n\u001b[32m    233\u001b[39m     \u001b[38;5;28mself\u001b[39m.create_down(tree, pruning, is_bord)\n\u001b[32m    234\u001b[39m \u001b[38;5;28;01melse\u001b[39;00m: \n\u001b[32m--> \u001b[39m\u001b[32m235\u001b[39m     \u001b[38;5;28;43mself\u001b[39;49m\u001b[43m.\u001b[49m\u001b[43mcreate_mid_w_div\u001b[49m\u001b[43m(\u001b[49m\u001b[43mtree\u001b[49m\u001b[43m,\u001b[49m\u001b[43m \u001b[49m\u001b[43mpruning\u001b[49m\u001b[43m,\u001b[49m\u001b[43m \u001b[49m\u001b[43mis_bord\u001b[49m\u001b[43m)\u001b[49m\n",
      "\u001b[36mFile \u001b[39m\u001b[32m~/Documents/Cours/M2 IEF 272/INFO QUANT/PROJET/PRICER V1/src/pricing/node.py:156\u001b[39m, in \u001b[36mNode.create_mid_w_div\u001b[39m\u001b[34m(self, tree, pruning, is_bord)\u001b[39m\n\u001b[32m    154\u001b[39m \u001b[38;5;28;01mif\u001b[39;00m candidate \u001b[38;5;129;01mis\u001b[39;00m \u001b[38;5;129;01mnot\u001b[39;00m \u001b[38;5;28;01mNone\u001b[39;00m:\n\u001b[32m    155\u001b[39m     \u001b[38;5;28mself\u001b[39m.next_mid = candidate; \n\u001b[32m--> \u001b[39m\u001b[32m156\u001b[39m     \u001b[43mtree\u001b[49m\u001b[43m.\u001b[49m\u001b[43m_compute_parameters\u001b[49m\u001b[43m(\u001b[49m\u001b[38;5;28;43mself\u001b[39;49m\u001b[43m.\u001b[49m\u001b[43mS\u001b[49m\u001b[43m,\u001b[49m\u001b[43m \u001b[49m\u001b[38;5;28;43mself\u001b[39;49m\u001b[43m.\u001b[49m\u001b[43mnext_mid\u001b[49m\u001b[43m.\u001b[49m\u001b[43mS\u001b[49m\u001b[43m,\u001b[49m\u001b[43m \u001b[49m\u001b[43mdividend\u001b[49m\u001b[43m=\u001b[49m\u001b[38;5;28;43;01mTrue\u001b[39;49;00m\u001b[43m)\u001b[49m\n\u001b[32m    157\u001b[39m     candidate.proba += \u001b[38;5;28mself\u001b[39m.proba * tree.p_mid\n\u001b[32m    158\u001b[39m     \u001b[38;5;28mself\u001b[39m._attach_trunc_links(candidate)\n",
      "\u001b[36mFile \u001b[39m\u001b[32m~/Documents/Cours/M2 IEF 272/INFO QUANT/PROJET/PRICER V1/src/pricing/trinomial_tree.py:96\u001b[39m, in \u001b[36mTrinomialTree._compute_parameters\u001b[39m\u001b[34m(self, S, S1_mid, dividend)\u001b[39m\n\u001b[32m     92\u001b[39m variance = compute_variance(S, \u001b[38;5;28mself\u001b[39m.market.r, \u001b[38;5;28mself\u001b[39m.delta_t, \u001b[38;5;28mself\u001b[39m.market.sigma)\n\u001b[32m     93\u001b[39m \u001b[38;5;28mself\u001b[39m.p_down, \u001b[38;5;28mself\u001b[39m.p_up, \u001b[38;5;28mself\u001b[39m.p_mid = compute_probabilities(\n\u001b[32m     94\u001b[39m     esperance, S1_mid \u001b[38;5;28;01mif\u001b[39;00m dividend \u001b[38;5;28;01melse\u001b[39;00m forward, variance, \u001b[38;5;28mself\u001b[39m.alpha, dividend\n\u001b[32m     95\u001b[39m )\n\u001b[32m---> \u001b[39m\u001b[32m96\u001b[39m \u001b[38;5;28;43mself\u001b[39;49m\u001b[43m.\u001b[49m\u001b[43m_assert_probabilities\u001b[49m\u001b[43m(\u001b[49m\u001b[38;5;28;43mself\u001b[39;49m\u001b[43m.\u001b[49m\u001b[43mp_down\u001b[49m\u001b[43m,\u001b[49m\u001b[43m \u001b[49m\u001b[38;5;28;43mself\u001b[39;49m\u001b[43m.\u001b[49m\u001b[43mp_up\u001b[49m\u001b[43m,\u001b[49m\u001b[43m \u001b[49m\u001b[38;5;28;43mself\u001b[39;49m\u001b[43m.\u001b[49m\u001b[43mp_mid\u001b[49m\u001b[43m)\u001b[49m\n",
      "\u001b[36mFile \u001b[39m\u001b[32m~/Documents/Cours/M2 IEF 272/INFO QUANT/PROJET/PRICER V1/src/pricing/trinomial_tree.py:104\u001b[39m, in \u001b[36mTrinomialTree._assert_probabilities\u001b[39m\u001b[34m(self, p_down, p_up, p_mid)\u001b[39m\n\u001b[32m    102\u001b[39m \u001b[38;5;28mself\u001b[39m.check_probability(p_down, \u001b[33m\"\u001b[39m\u001b[33mp_down\u001b[39m\u001b[33m\"\u001b[39m)\n\u001b[32m    103\u001b[39m \u001b[38;5;28mself\u001b[39m.check_probability(p_up, \u001b[33m\"\u001b[39m\u001b[33mp_up\u001b[39m\u001b[33m\"\u001b[39m)\n\u001b[32m--> \u001b[39m\u001b[32m104\u001b[39m \u001b[38;5;28;43mself\u001b[39;49m\u001b[43m.\u001b[49m\u001b[43mcheck_probability\u001b[49m\u001b[43m(\u001b[49m\u001b[43mp_mid\u001b[49m\u001b[43m,\u001b[49m\u001b[43m \u001b[49m\u001b[33;43m\"\u001b[39;49m\u001b[33;43mp_mid\u001b[39;49m\u001b[33;43m\"\u001b[39;49m\u001b[43m)\u001b[49m\n\u001b[32m    105\u001b[39m \u001b[38;5;28;01mif\u001b[39;00m \u001b[38;5;129;01mnot\u001b[39;00m np.isclose(p_down + p_mid + p_up, \u001b[32m1.0\u001b[39m, atol=\u001b[32m1e-12\u001b[39m):\n\u001b[32m    106\u001b[39m     \u001b[38;5;28;01mraise\u001b[39;00m \u001b[38;5;167;01mAssertionError\u001b[39;00m(\u001b[33m\"\u001b[39m\u001b[33mLa somme des probabilités est différente de 1.\u001b[39m\u001b[33m\"\u001b[39m)\n",
      "\u001b[36mFile \u001b[39m\u001b[32m~/Documents/Cours/M2 IEF 272/INFO QUANT/PROJET/PRICER V1/src/pricing/model.py:11\u001b[39m, in \u001b[36mModel.check_probability\u001b[39m\u001b[34m(probability, comment)\u001b[39m\n\u001b[32m      9\u001b[39m \u001b[38;5;129m@staticmethod\u001b[39m\n\u001b[32m     10\u001b[39m \u001b[38;5;28;01mdef\u001b[39;00m\u001b[38;5;250m \u001b[39m\u001b[34mcheck_probability\u001b[39m(probability: \u001b[38;5;28mfloat\u001b[39m, comment: \u001b[38;5;28mstr\u001b[39m = \u001b[33m\"\u001b[39m\u001b[33m\"\u001b[39m):\n\u001b[32m---> \u001b[39m\u001b[32m11\u001b[39m     \u001b[38;5;28;01massert\u001b[39;00m (\u001b[32m0\u001b[39m <= probability <= \u001b[32m1\u001b[39m), \u001b[33m\"\u001b[39m\u001b[33mError: probability \u001b[39m\u001b[33m\"\u001b[39m + comment + \u001b[33m\"\u001b[39m\u001b[33m = \u001b[39m\u001b[33m\"\u001b[39m + Model.str_pc(probability) + \u001b[33m\"\u001b[39m\u001b[33m!\u001b[39m\u001b[33m\"\u001b[39m\n",
      "\u001b[31mAssertionError\u001b[39m: Error: probability p_mid = -2.46%!"
     ]
    }
   ],
   "source": [
    "from pricing import BlackScholesPricer, TrinomialTree, Market, Option\n",
    "from pricing import convergence\n",
    "import datetime as dt\n",
    "import              sys\n",
    "import logging\n",
    "# logging.basicConfig(level=logging.DEBUG, format=\"%(levelname)s %(name)s: %(message)s\")\n",
    "\n",
    "sys.setrecursionlimit(100)\n",
    "market = Market(S0=100, r=0.03, sigma=0.2, dividend=9.5, dividend_date=dt.datetime(2026, 10, 20))\n",
    "option = Option(K=110, option_type=\"call\", maturity=dt.datetime(2026, 10, 30), option_class=\"european\")\n",
    "tree = TrinomialTree(market, option, N=7, pruning=True, epsilon=1e-6)\n",
    "\n",
    "tree._compute_parameters(100)\n",
    "tree.root = tree._build_tree()\n",
    "\n",
    "# price = tree.price(option)\n",
    "# print(\"Prix de l’option:\", price)\n",
    "\n",
    "bs_price = BlackScholesPricer().price(S=market.S0, K=option.K, T=tree.delta_t*tree.N, r=market.r, sigma=market.sigma, option_type='call', dividend=market.dividend, dividend_date = market.dividend_date) # q=0 car pas de dividendes\n",
    "print(\"Black-Scholes Price: {:.4f}\".format(bs_price))\n",
    "\n",
    "tree.plot_tree(tree.N)\n",
    "# convergence.bs_convergence_by_strike(market, option, [80, 90, 100, 110, 120, 130, 140, 150, 160], N=tree.N)\n",
    "\n",
    "# convergence.bs_convergence_by_step(market, option, bs_price, max_n = 100, step = 20)"
   ]
  },
  {
   "cell_type": "markdown",
   "id": "91eddd9e",
   "metadata": {},
   "source": [
    "maintenant il faut aller chercher un noeud en dessous / dessus tant que c'est plus le proche"
   ]
  },
  {
   "cell_type": "markdown",
   "id": "8af23a9f",
   "metadata": {},
   "source": [
    "pour le pruning : il faut faire du full monomial où le noeud monomial est \"augmenté\" par le next_up du dessous en phase de montée"
   ]
  },
  {
   "cell_type": "code",
   "execution_count": 15,
   "id": "c4afea39",
   "metadata": {},
   "outputs": [
    {
     "name": "stderr",
     "output_type": "stream",
     "text": [
      "DEBUG trinomial.next_column_nodes: start node id=4552037424 S=119.963276\n",
      "DEBUG trinomial.next_column_nodes: probe=self.next_mid -> center id=4551651120 S=95.014083\n",
      "DEBUG trinomial.next_column_nodes: returned 5 nodes: (id=4551651120, S=95.014083), (id=4552700944, S=121.831351), (id=4552699792, S=156.217662), (id=4552703344, S=74.099778), (id=4552699072, S=57.789087)\n"
     ]
    },
    {
     "name": "stdout",
     "output_type": "stream",
     "text": [
      "esperance :  113.83135058870302\n",
      "prix le plus proche:  95.01408346533317\n"
     ]
    }
   ],
   "source": [
    "noeud = tree.root.next_up\n",
    "print(\"esperance : \", noeud._esperance(tree, True))\n",
    "print(\"prix le plus proche: \", noeud._find_closest_node(noeud._esperance(tree, True)).S)"
   ]
  },
  {
   "cell_type": "code",
   "execution_count": 16,
   "id": "5d9c4893",
   "metadata": {},
   "outputs": [
    {
     "data": {
      "text/plain": [
       "[np.float64(95.01408346533317),\n",
       " np.float64(121.83135058870302),\n",
       " np.float64(156.21766210777625),\n",
       " np.float64(74.09977820269197),\n",
       " np.float64(57.78908693774336)]"
      ]
     },
     "execution_count": 16,
     "metadata": {},
     "output_type": "execute_result"
    }
   ],
   "source": [
    "[x.S for x in tree.root.next_mid.up.next_column_nodes()]"
   ]
  },
  {
   "cell_type": "code",
   "execution_count": 17,
   "id": "2e8dbe4b",
   "metadata": {},
   "outputs": [
    {
     "data": {
      "text/plain": [
       "np.float64(121.83135058870302)"
      ]
     },
     "execution_count": 17,
     "metadata": {},
     "output_type": "execute_result"
    }
   ],
   "source": [
    "tree.root.next_mid.next_up.S"
   ]
  },
  {
   "cell_type": "code",
   "execution_count": null,
   "id": "19c81a07",
   "metadata": {},
   "outputs": [],
   "source": [
    "def next_column_nodes(self):\n",
    "    \"\"\"\n",
    "    Retourne la liste des nœuds déjà créés de la colonne suivante (t+1),\n",
    "    même si self.next_mid n'est pas encore câblé (on passe alors par le centre).\n",
    "    \"\"\"\n",
    "    # 1) trouver le centre de t+1\n",
    "    center = None\n",
    "    if self.next_mid is not None:\n",
    "        center = self.next_mid.trunc\n",
    "\n",
    "    if center is None:\n",
    "        return []\n",
    "\n",
    "    top = center\n",
    "    seen_up = set()\n",
    "    while top.up is not None and id(top) not in seen_up:\n",
    "        seen_up.add(id(top))\n",
    "        top = top.up\n",
    "\n",
    "    col, seen_down = [], set()\n",
    "    cur = top\n",
    "    while cur is not None and id(cur) not in seen_down:\n",
    "        seen_down.add(id(cur))\n",
    "        col.append(cur)\n",
    "        cur = cur.down\n",
    "    return col"
   ]
  },
  {
   "cell_type": "code",
   "execution_count": null,
   "id": "c9263e37",
   "metadata": {},
   "outputs": [],
   "source": [
    "# soutenance sur teams de 30 min\n",
    "# 2 quizz jusqu'à 17h le 29/10 : un qualitatif -> questions et un quantitatif où on va \n",
    "# devoir utiliser notre code pour répondre (possible de faire un ajout de code aussi)\n",
    "# exemple qualitatif : quelle est le plus gros reproche de l'abre trinomial"
   ]
  },
  {
   "cell_type": "markdown",
   "id": "550f2b51",
   "metadata": {},
   "source": [
    "pricer backward :\n",
    "- calcul avec une boucle for sans limite de récursion\n",
    "- on commence les calculs par le noeud de la fin\n",
    "- allez à la fin avec les truncs nodes\n",
    "- on calcul la valeur intrinsèque dans la dernière colonne\n",
    "- on va ajouter le fait de revenir un cran en arrière sur le noeud tronc\n",
    "- on peut avoir une classe TruncNode qui dérive de Node\n",
    "- il faut aussi que n'importe quelle noeud de la colonne connaisse son TruncNode\n",
    "- ensuite on remonte noeud par noeud et utilise la même fonction price que le récursif (la même forme)"
   ]
  },
  {
   "cell_type": "markdown",
   "id": "4993cd51",
   "metadata": {},
   "source": [
    "problème des probas pas dans 0, 1:\n",
    "il faut que le noeud mid soit le plus proche de l'espérance --> il faut changer de noeud mid quand ça dépasse 1 ou en dessous de 0\n",
    "il va falloir attribuer next_mid en cherchant autour\n",
    "lui sa construction il l'a fait en montant petit à petit dans les deux colonnes t et t+1 en même temps\n",
    "tant que le next_mid est entre le next_mid actuel et la moyenne entre next_mid et next_up alors on garde ce next_mid sinon on attribue next_mid comme étant next_up, attribuer next_mid au noeud le plus proche de l'espérance --> calculer la moyenne entre le deux noeuds possible\n",
    "le problème vient des noeuds du bas avec des valeur négative quand on soustrait le div--> résolu par le pruning qui enlève beaucoup de noeuds du bas\n",
    "\n",
    "il faudrait que la colonne t sache que la colonne t+1 reçoit le dividende"
   ]
  },
  {
   "cell_type": "markdown",
   "id": "a854ca56",
   "metadata": {},
   "source": [
    "REGARDER LES GRAPHS LOG LOG AVANT DE FAIRE LE PRUNING"
   ]
  },
  {
   "cell_type": "markdown",
   "id": "d6b90612",
   "metadata": {},
   "source": [
    "Pruning : \n",
    "- soit proba d'arriver au noeud\n",
    "- soit nombre d'écart type de S avec le trunc node (4 écarts types)\n",
    "- chaque noeud à sa proba\n",
    "- chaque noeud vient peut être de 3 noeud, à chaque fois qu'on fait une liaison vers ce noeud on rajoute à la proba cumulé du noeud vers lequel on va la contribution du noeud parent : next_down.proba_cumulée = next_down.proba_cumulée + current_node.proba ---> méthode dans Node\n",
    "quand on monte dans l'arbre et que c'est trop petit, on fait juste un next_mid avec une proba de 1 ---> monomial ---> tant que c'est trop petit ---> monomial\n",
    "le noeud qui a une proba faible crée un noeud monomial ! il existe mais ne crée pas plusieurs noeud c'est tout\n",
    "- autre méthode = écart type"
   ]
  },
  {
   "cell_type": "markdown",
   "id": "5ad66dfb",
   "metadata": {},
   "source": [
    "delta: prix_option en S0+epsilon (dans le temps) + prix_option en S0-epsilon/ 2*epsilon\n",
    "c'est au QCM ça.\n",
    "Les risk managers font des delta en pourcentage de la valeur du produit pour avoir des calls en % pour pouvoir comparer des produits similaires. Le epsilon est par exemple 1% de la valeur du produit. epsilon = 0.4 pour un produit à 40 et 4 pour un produit à 400 (décalage d'1%)\n",
    "Il faudra utiliser la première méthode pour le QCM.\n",
    "\n",
    "Gamma: dérivé du delta donc --> delta+ - delta- si unité de 1 de décalage\n",
    "Avec un epsilon : (delta+(de epsilon) - delta-)/epsilon\n",
    "à partir du prix = (Prixoption(S0 + epsilon) + Prixoption(S0-epsilon) - 2*Prixoption(S0)) / epsilon^2\n",
    "\n",
    "Vega : (dérivé du prix par sigma) * 1%\n",
    " = (PrixS0 + 1% - PrixS0 - 1%)/2 car c'est de la vol\n",
    "\n",
    "vega = dérivé seconde par rapport à la vol\n",
    "\n",
    "vanna = dérivé croisée = dérivé du vega par rapport au spot = dérivée du delta par rapport à la vol\n"
   ]
  },
  {
   "cell_type": "markdown",
   "id": "ca9781e6",
   "metadata": {},
   "source": [
    "dérivée dans le code:\n",
    "le callable est une fonction qui doit prendre un float en argument (valeur par rapport à laquelle on dérive)\n",
    "shift = amplituyde de la variation"
   ]
  },
  {
   "cell_type": "code",
   "execution_count": null,
   "id": "500da8af",
   "metadata": {},
   "outputs": [],
   "source": [
    "# from typing import *\n",
    "\n",
    "# class OneDimDerivative:\n",
    "\n",
    "#     def __init__(self, function: Callable[[object, float], float],\n",
    "#                  other_parameters: object, shift: float = 1):\n",
    "#         self.f: Callable[[object, float], float] = function\n",
    "#         self.param: object = other_parameters\n",
    "#         self.shift: float = shift\n",
    "\n",
    "#     def first(self, x: float) -> float:\n",
    "#         return (self.f(self.param, x + self.shift)\n",
    "#                 - self.f(self.param, x - self.shift)) / (2 * self.shift)\n",
    "    \n",
    "\n",
    "# def OptionDeltaBackward(market_range: numpy.array, pricing_range: numpy.array, option_range: numpy.array) -> float:\n",
    "#     return OneDimDerivative(cast((object, float), _PriceTreeBackward_OneDimPrice),\n",
    "# OptionPricingParam(market_range, pricer_range, option_range),\n",
    "# market_range[0] * OptionPricingParam.UND_SHIFT).first(market_range[0])"
   ]
  },
  {
   "cell_type": "code",
   "execution_count": null,
   "id": "cbb0ca60",
   "metadata": {},
   "outputs": [],
   "source": [
    "def create_mid_w_div(self, tree, i: int, dividend: bool = False):\n",
    "    \"\"\"\n",
    "    Variante 'ex-div' de create_mid :\n",
    "    - crée le trunc (premier mid de la colonne) à forward - D\n",
    "    - lors de la montée/descente, rattache self.next_mid au nœud t+1 le plus\n",
    "      proche de forward - D pour CE nœud, même si c’est un cran au-dessus/en-dessous\n",
    "      de down.next_up / up.next_down (décalage ±alpha).\n",
    "    - recalcule les paramètres (p_up, p_mid, p_down) localement si on crée un\n",
    "      nouveau mid à l’étape ex-div.\n",
    "    \"\"\"\n",
    "    # pré-calculs\n",
    "    proba_mid = self.proba * tree.p_mid\n",
    "    forward = self.S * np.exp(tree.market.r * tree.delta_t)\n",
    "    s_target = forward - tree.market.dividend if dividend else forward\n",
    "\n",
    "    # --- Cas sans dividende : on retombe sur la version standard\n",
    "    if not dividend:\n",
    "        # garde le comportement d'origine\n",
    "        return self.create_mid(tree, i, dividend=False)\n",
    "\n",
    "    # --- Ex-dividende : tenter de RÉUTILISER un nœud existant côté colonne t+1\n",
    "    # Candidats naturels issus des frères déjà construits :\n",
    "    candidates = []\n",
    "\n",
    "    # côté \"bas\" -> son next_up et ses voisins verticaux (±alpha)\n",
    "    if self.down is not None and self.down.next_up is not None:\n",
    "        base = self.down.next_up\n",
    "        candidates += [base]\n",
    "        if base.up is not None:\n",
    "            candidates.append(base.up)\n",
    "        if base.down is not None:\n",
    "            candidates.append(base.down)\n",
    "\n",
    "    # côté \"haut\" -> son next_down et ses voisins verticaux (±alpha)\n",
    "    if self.up is not None and self.up.next_down is not None:\n",
    "        base = self.up.next_down\n",
    "        candidates += [base]\n",
    "        if base.up is not None:\n",
    "            candidates.append(base.up)\n",
    "        if base.down is not None:\n",
    "            candidates.append(base.down)\n",
    "\n",
    "    # dédup & purge None\n",
    "    uniq = []\n",
    "    seen = set()\n",
    "    for c in candidates:\n",
    "        if c is None:\n",
    "            continue\n",
    "        cid = id(c)\n",
    "        if cid not in seen:\n",
    "            seen.add(cid)\n",
    "            uniq.append(c)\n",
    "\n",
    "    if uniq:\n",
    "        # choisir le nœud de la colonne t+1 le plus proche de forward - D pour CE nœud\n",
    "        chosen = min(uniq, key=lambda n: abs(n.S - s_target))\n",
    "        self.next_mid = chosen\n",
    "        chosen.proba += proba_mid\n",
    "\n",
    "        # rattachement 'trunc' (chaîne horizontale)\n",
    "        if self.trunc is None:\n",
    "            self.trunc = self\n",
    "        # si le candidat a déjà son propre trunc, on propage\n",
    "        self.next_mid.trunc = getattr(chosen, \"trunc\", chosen)\n",
    "        self.next_mid.prev_trunc = self.trunc\n",
    "\n",
    "        # Cas particulier évoqué : décalage +α depuis down.next_up -> choisir down comme next_down\n",
    "        if (self.down is not None and self.down.next_up is not None\n",
    "                and self.down.next_up.up is self.next_mid):\n",
    "            # relier le down pour éviter une création/doublon plus tard\n",
    "            self.next_down = self.down.next_up\n",
    "            # liens verticaux cohérents\n",
    "            self.next_mid.down = self.next_down\n",
    "            self.next_down.up = self.next_mid\n",
    "\n",
    "        # Symétrique : décalage -α depuis up.next_down -> choisir up comme next_up\n",
    "        if (self.up is not None and self.up.next_down is not None\n",
    "                and self.up.next_down.down is self.next_mid):\n",
    "            self.next_up = self.up.next_down\n",
    "            self.next_mid.up = self.next_up\n",
    "            self.next_up.down = self.next_mid\n",
    "\n",
    "        # NB : on laisse create_up/create_down compléter/créer le frère manquant\n",
    "        return\n",
    "\n",
    "    # --- Sinon : aucun candidat pertinent existant -> CRÉER le mid à s_target\n",
    "    # recalibration locale des probas au pas ex-div autour de s_target\n",
    "    tree._compute_parameters(self.S, s_target, dividend=True)\n",
    "\n",
    "    self.next_mid = Node(S=s_target, proba=proba_mid)\n",
    "    self.next_mid.tree = self\n",
    "\n",
    "    # rattachement central (chaîne des trunc)\n",
    "    if self.trunc is None:\n",
    "        self.trunc = self\n",
    "    self.next_mid.trunc = self.next_mid\n",
    "    self.next_mid.prev_trunc = self.trunc\n"
   ]
  },
  {
   "cell_type": "code",
   "execution_count": null,
   "id": "d478f1f2",
   "metadata": {},
   "outputs": [],
   "source": [
    "def create_up(self, tree: object, pruning: bool, is_bord: bool, dividend: bool):\n",
    "    proba_up = self.proba * tree.p_up\n",
    "\n",
    "    # >>> ne pas recréer si déjà câblé (ex: cas -α symétrique)\n",
    "    if self.next_up is not None:\n",
    "        self.next_up.proba += proba_up\n",
    "        return\n",
    "    ...\n"
   ]
  },
  {
   "cell_type": "code",
   "execution_count": null,
   "id": "8c96f20c",
   "metadata": {},
   "outputs": [],
   "source": [
    "def create_down(self, tree: object, pruning: bool, is_bord: bool, dividend: bool):\n",
    "    proba_down = self.proba * tree.p_down\n",
    "\n",
    "    # >>> ne pas recréer si déjà câblé (ex: cas +α évoqué)\n",
    "    if self.next_down is not None:\n",
    "        self.next_down.proba += proba_down\n",
    "        return\n",
    "    ...\n"
   ]
  }
 ],
 "metadata": {
  "kernelspec": {
   "display_name": "venv",
   "language": "python",
   "name": "python3"
  },
  "language_info": {
   "codemirror_mode": {
    "name": "ipython",
    "version": 3
   },
   "file_extension": ".py",
   "mimetype": "text/x-python",
   "name": "python",
   "nbconvert_exporter": "python",
   "pygments_lexer": "ipython3",
   "version": "3.12.11"
  }
 },
 "nbformat": 4,
 "nbformat_minor": 5
}
