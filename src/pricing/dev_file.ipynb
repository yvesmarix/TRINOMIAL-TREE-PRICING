{
 "cells": [
  {
   "cell_type": "code",
   "execution_count": 1,
   "id": "969acee2",
   "metadata": {},
   "outputs": [
    {
     "ename": "ImportError",
     "evalue": "cannot import name 'Market' from partially initialized module 'pricing' (most likely due to a circular import) (/Users/yves-mariesaliou/Documents/Cours/M2 IEF 272/INFO QUANT/PROJET/PRICER V1/src/pricing/__init__.py)",
     "output_type": "error",
     "traceback": [
      "\u001b[31m---------------------------------------------------------------------------\u001b[39m",
      "\u001b[31mImportError\u001b[39m                               Traceback (most recent call last)",
      "\u001b[36mCell\u001b[39m\u001b[36m \u001b[39m\u001b[32mIn[1]\u001b[39m\u001b[32m, line 3\u001b[39m\n\u001b[32m      1\u001b[39m \u001b[38;5;66;03m# debut du div, americain, avancer sur convergence\u001b[39;00m\n\u001b[32m----> \u001b[39m\u001b[32m3\u001b[39m \u001b[38;5;28;01mfrom\u001b[39;00m\u001b[38;5;250m \u001b[39m\u001b[34;01mpricing\u001b[39;00m\u001b[38;5;250m \u001b[39m\u001b[38;5;28;01mimport\u001b[39;00m BlackScholesPricer, TrinomialTree, Market, Option\n\u001b[32m      4\u001b[39m \u001b[38;5;28;01mfrom\u001b[39;00m\u001b[38;5;250m \u001b[39m\u001b[34;01mpricing\u001b[39;00m\u001b[38;5;250m \u001b[39m\u001b[38;5;28;01mimport\u001b[39;00m convergence\n\u001b[32m      6\u001b[39m \u001b[38;5;66;03m# market = Market(S0=100, r=0.05, sigma=0.2)\u001b[39;00m\n\u001b[32m      7\u001b[39m \u001b[38;5;66;03m# option = Option(K=103, option_type=\"call\", T=1.0, option_class=\"european\")\u001b[39;00m\n\u001b[32m      8\u001b[39m \u001b[38;5;66;03m# tree = TrinomialTree(market, option, N=2)\u001b[39;00m\n\u001b[32m   (...)\u001b[39m\u001b[32m     18\u001b[39m \n\u001b[32m     19\u001b[39m \u001b[38;5;66;03m# convergence.bs_convergence_by_step(market, option, bs_price, max_n = 1000, step = 100)\u001b[39;00m\n",
      "\u001b[36mFile \u001b[39m\u001b[32m~/Documents/Cours/M2 IEF 272/INFO QUANT/PROJET/PRICER V1/src/pricing/__init__.py:2\u001b[39m\n\u001b[32m      1\u001b[39m \u001b[38;5;28;01mfrom\u001b[39;00m\u001b[38;5;250m \u001b[39m\u001b[34;01mblackscholes\u001b[39;00m\u001b[38;5;250m \u001b[39m\u001b[38;5;28;01mimport\u001b[39;00m BlackScholesPricer\n\u001b[32m----> \u001b[39m\u001b[32m2\u001b[39m \u001b[38;5;28;01mfrom\u001b[39;00m\u001b[38;5;250m \u001b[39m\u001b[34;01mtrinomial_tree\u001b[39;00m\u001b[38;5;250m \u001b[39m\u001b[38;5;28;01mimport\u001b[39;00m TrinomialTree\n\u001b[32m      3\u001b[39m \u001b[38;5;28;01mfrom\u001b[39;00m\u001b[38;5;250m \u001b[39m\u001b[34;01mmarket\u001b[39;00m\u001b[38;5;250m \u001b[39m\u001b[38;5;28;01mimport\u001b[39;00m Market\n\u001b[32m      4\u001b[39m \u001b[38;5;28;01mfrom\u001b[39;00m\u001b[38;5;250m \u001b[39m\u001b[34;01moption\u001b[39;00m\u001b[38;5;250m \u001b[39m\u001b[38;5;28;01mimport\u001b[39;00m Option\n",
      "\u001b[36mFile \u001b[39m\u001b[32m~/Documents/Cours/M2 IEF 272/INFO QUANT/PROJET/PRICER V1/src/pricing/trinomial_tree.py:4\u001b[39m\n\u001b[32m      2\u001b[39m \u001b[38;5;28;01mimport\u001b[39;00m\u001b[38;5;250m \u001b[39m\u001b[34;01mdatetime\u001b[39;00m\u001b[38;5;250m \u001b[39m\u001b[38;5;28;01mas\u001b[39;00m\u001b[38;5;250m \u001b[39m\u001b[34;01mdt\u001b[39;00m\n\u001b[32m      3\u001b[39m \u001b[38;5;28;01mimport\u001b[39;00m\u001b[38;5;250m \u001b[39m\u001b[34;01mpandas\u001b[39;00m\u001b[38;5;250m \u001b[39m\u001b[38;5;28;01mas\u001b[39;00m\u001b[38;5;250m \u001b[39m\u001b[34;01mpd\u001b[39;00m\n\u001b[32m----> \u001b[39m\u001b[32m4\u001b[39m \u001b[38;5;28;01mfrom\u001b[39;00m\u001b[38;5;250m \u001b[39m\u001b[34;01mpricing\u001b[39;00m\u001b[38;5;250m \u001b[39m\u001b[38;5;28;01mimport\u001b[39;00m BlackScholesPricer, Market, Option\n\u001b[32m      5\u001b[39m \u001b[38;5;28;01mfrom\u001b[39;00m\u001b[38;5;250m \u001b[39m\u001b[34;01mnode\u001b[39;00m\u001b[38;5;250m \u001b[39m\u001b[38;5;28;01mimport\u001b[39;00m Node\n\u001b[32m      6\u001b[39m \u001b[38;5;28;01mfrom\u001b[39;00m\u001b[38;5;250m \u001b[39m\u001b[34;01mmodel\u001b[39;00m\u001b[38;5;250m \u001b[39m\u001b[38;5;28;01mimport\u001b[39;00m Model\n",
      "\u001b[31mImportError\u001b[39m: cannot import name 'Market' from partially initialized module 'pricing' (most likely due to a circular import) (/Users/yves-mariesaliou/Documents/Cours/M2 IEF 272/INFO QUANT/PROJET/PRICER V1/src/pricing/__init__.py)"
     ]
    }
   ],
   "source": [
    "# debut du div, americain, avancer sur convergence\n",
    "\n",
    "from pricing import BlackScholesPricer, TrinomialTree, Market, Option\n",
    "from pricing import convergence\n",
    "\n",
    "# market = Market(S0=100, r=0.05, sigma=0.2)\n",
    "# option = Option(K=103, option_type=\"call\", T=1.0, option_class=\"european\")\n",
    "# tree = TrinomialTree(market, option, N=2)\n",
    "\n",
    "# price = tree.root.price_recursive(option)\n",
    "# print(\"Prix de l’option:\", price)\n",
    "\n",
    "# bs_price = BlackScholesPricer().price(S=market.S0, K=option.K, T=option.T, r=market.r, q=0, sigma=market.sigma, option_type='call') # q=0 car pas de dividendes\n",
    "# print(\"Black-Scholes Price: {:.4f}\".format(bs_price))\n",
    "\n",
    "\n",
    "# convergence.bs_convergence_by_strike(market, option, [80, 90, 100, 110, 120, 130, 140, 150, 160], N=100)\n",
    "\n",
    "# convergence.bs_convergence_by_step(market, option, bs_price, max_n = 1000, step = 100)"
   ]
  },
  {
   "cell_type": "code",
   "execution_count": 3,
   "id": "45e3d265",
   "metadata": {},
   "outputs": [
    {
     "data": {
      "text/plain": [
       "np.float64(0.012210932698873014)"
      ]
     },
     "execution_count": 3,
     "metadata": {},
     "output_type": "execute_result"
    }
   ],
   "source": [
    "tree.root.next_up.next_up.proba"
   ]
  }
 ],
 "metadata": {
  "kernelspec": {
   "display_name": "venv",
   "language": "python",
   "name": "python3"
  },
  "language_info": {
   "codemirror_mode": {
    "name": "ipython",
    "version": 3
   },
   "file_extension": ".py",
   "mimetype": "text/x-python",
   "name": "python",
   "nbconvert_exporter": "python",
   "pygments_lexer": "ipython3",
   "version": "3.12.0"
  }
 },
 "nbformat": 4,
 "nbformat_minor": 5
}
